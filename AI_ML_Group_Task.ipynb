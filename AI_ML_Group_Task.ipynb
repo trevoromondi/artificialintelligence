{
  "nbformat": 4,
  "nbformat_minor": 0,
  "metadata": {
    "colab": {
      "name": "AI_ML_Group_Task.ipynb",
      "provenance": [],
      "authorship_tag": "ABX9TyNmgsYZt/XXPKdKKDOq3hSp",
      "include_colab_link": true
    },
    "kernelspec": {
      "name": "python3",
      "display_name": "Python 3"
    },
    "language_info": {
      "name": "python"
    }
  },
  "cells": [
    {
      "cell_type": "markdown",
      "metadata": {
        "id": "view-in-github",
        "colab_type": "text"
      },
      "source": [
        "<a href=\"https://colab.research.google.com/github/trevoromondi/artificialintelligence/blob/main/AI_ML_Group_Task.ipynb\" target=\"_parent\"><img src=\"https://colab.research.google.com/assets/colab-badge.svg\" alt=\"Open In Colab\"/></a>"
      ]
    },
    {
      "cell_type": "markdown",
      "metadata": {
        "id": "6SbLLqaz9szu"
      },
      "source": [
        "***Importing the required libraries***"
      ]
    },
    {
      "cell_type": "code",
      "metadata": {
        "id": "EoY3GAHquZS8"
      },
      "source": [
        "import pandas as pd \n",
        "import numpy as np"
      ],
      "execution_count": 115,
      "outputs": []
    },
    {
      "cell_type": "code",
      "metadata": {
        "id": "MORH7G27ud1D"
      },
      "source": [
        "from numpy import array\n",
        "from sklearn.preprocessing import Normalizer\n",
        "from keras.activations import sigmoid\n",
        "from numpy.random import uniform"
      ],
      "execution_count": 116,
      "outputs": []
    },
    {
      "cell_type": "markdown",
      "metadata": {
        "id": "gGlASMKj92a4"
      },
      "source": [
        "***The Dataset and its Normalization***"
      ]
    },
    {
      "cell_type": "code",
      "metadata": {
        "id": "e3tjR_vxuh7U"
      },
      "source": [
        "data={'Day 1':[30,40,50,20,15,60],'Day 2':[40,50,20,15,60,70],\n",
        "      'Day 3':[50,20,15,60,70,50],'Target':[20,15,60,70,50,40]}"
      ],
      "execution_count": 117,
      "outputs": []
    },
    {
      "cell_type": "code",
      "metadata": {
        "id": "MCD7XrzbvEjH"
      },
      "source": [
        "dataset=pd.DataFrame(data)"
      ],
      "execution_count": 118,
      "outputs": []
    },
    {
      "cell_type": "code",
      "metadata": {
        "id": "1wxQgoJ1vJRj"
      },
      "source": [
        "X=dataset.drop('Target',axis=1)\n",
        "y=dataset['Target']"
      ],
      "execution_count": 119,
      "outputs": []
    },
    {
      "cell_type": "code",
      "metadata": {
        "id": "FsALTr45vPNH"
      },
      "source": [
        "X_norm = Normalizer(norm='max').fit_transform(X)"
      ],
      "execution_count": 120,
      "outputs": []
    },
    {
      "cell_type": "code",
      "metadata": {
        "colab": {
          "base_uri": "https://localhost:8080/"
        },
        "id": "_Ti6_zqV8tJZ",
        "outputId": "c2518d63-75b4-49b2-8c9b-675fd0f0f6ed"
      },
      "source": [
        "y_norm = Normalizer(norm = 'max').fit_transform(np.reshape(array(y), (1,-1)))\n",
        "y_norm"
      ],
      "execution_count": 121,
      "outputs": [
        {
          "output_type": "execute_result",
          "data": {
            "text/plain": [
              "array([[0.28571429, 0.21428571, 0.85714286, 1.        , 0.71428571,\n",
              "        0.57142857]])"
            ]
          },
          "metadata": {},
          "execution_count": 121
        }
      ]
    },
    {
      "cell_type": "code",
      "metadata": {
        "colab": {
          "base_uri": "https://localhost:8080/"
        },
        "id": "_C-T6jECwOul",
        "outputId": "84a50a31-5cae-40c5-f8e7-52131d164170"
      },
      "source": [
        "X_norm"
      ],
      "execution_count": 122,
      "outputs": [
        {
          "output_type": "execute_result",
          "data": {
            "text/plain": [
              "array([[0.6       , 0.8       , 1.        ],\n",
              "       [0.8       , 1.        , 0.4       ],\n",
              "       [1.        , 0.4       , 0.3       ],\n",
              "       [0.33333333, 0.25      , 1.        ],\n",
              "       [0.21428571, 0.85714286, 1.        ],\n",
              "       [0.85714286, 1.        , 0.71428571]])"
            ]
          },
          "metadata": {},
          "execution_count": 122
        }
      ]
    },
    {
      "cell_type": "code",
      "metadata": {
        "colab": {
          "base_uri": "https://localhost:8080/"
        },
        "id": "7Z6KstDhywTr",
        "outputId": "038f6e4f-2f41-4e17-f6da-83e8db089c24"
      },
      "source": [
        "y_norm"
      ],
      "execution_count": 123,
      "outputs": [
        {
          "output_type": "execute_result",
          "data": {
            "text/plain": [
              "array([[0.28571429, 0.21428571, 0.85714286, 1.        , 0.71428571,\n",
              "        0.57142857]])"
            ]
          },
          "metadata": {},
          "execution_count": 123
        }
      ]
    },
    {
      "cell_type": "markdown",
      "metadata": {
        "id": "-uV5Fgpr-DDw"
      },
      "source": [
        "***Setting up the weights, forward propagation, backward propagation and training for the Neural Network***"
      ]
    },
    {
      "cell_type": "code",
      "metadata": {
        "colab": {
          "base_uri": "https://localhost:8080/"
        },
        "id": "B-UHtkg0zvfb",
        "outputId": "e861d13d-008b-4d62-c4a2-89aa7d56fed3"
      },
      "source": [
        "class Network(object):\n",
        "  def __init__(self):\n",
        "     #size parameters\n",
        "      self.input = 3\n",
        "      self.output = 6\n",
        "      self.hidden = 3\n",
        "\n",
        "      self.weight_1 = np.random.randn(self.input, self.hidden) #weight values from input layer to hidden layer \n",
        "      self.weight_2 = np.random.randn(self.hidden, self.output) #weight values from hidden layer to output layer \n",
        "\n",
        "  def forward(self, X_norm):\n",
        "      self.a = np.dot(X_norm, self.weight_1)\n",
        "      self.a2 = self.sigmoid(self.a) #activation function\n",
        "      self.a3 = np.dot(self.a2, self.weight_2)\n",
        "      output_1 = self.sigmoid(self.a3)\n",
        "      return output_1\n",
        "\n",
        "  def sigmoid(self, b, derivative=False):\n",
        "      if(derivative == True):\n",
        "        return b * (1-b)\n",
        "      return 1/(1 + np.exp(-b))\n",
        "\n",
        "  def backward(self, X_norm, y_norm, output_1):\n",
        "      self.error = y_norm - output_1 #error gotten from the output\n",
        "      self.delta = self.error * self.sigmoid(output_1, derivative=True)\n",
        "\n",
        "      self.a2_error = self.delta.dot(self.weight_2.T) #how much the weights of the hidden layer contribute to the overall output error\n",
        "      self.a2_delta = self.a2_error * self.sigmoid(self.a2, derivative=True) #applying the sigmoid derivative to the hidden layer error\n",
        "\n",
        "      #updating the weights\n",
        "      self.weight_1 += X_norm.T.dot(self.a2_delta)\n",
        "      self.weight_2 += self.a2.T.dot(self.delta)  \n",
        "\n",
        "  def training(self, X_norm, y_norm):\n",
        "      output_1 = self.forward(X_norm)\n",
        "      self.backward(X_norm, y_norm, output_1) \n",
        "\n",
        "NN = Network()\n",
        "c = str(np.mean(np.square(y_norm - NN.forward(X_norm))))\n",
        "for i in range(100): #number of epochs(100)\n",
        "  if (i % 100 == 0):\n",
        "    print(\"Loss: \" + c )\n",
        "    NN.training(X_norm, y_norm)\n",
        "  \n",
        "\n",
        "  "
      ],
      "execution_count": 126,
      "outputs": [
        {
          "output_type": "stream",
          "name": "stdout",
          "text": [
            "Loss: 0.14422214729549665\n"
          ]
        }
      ]
    },
    {
      "cell_type": "markdown",
      "metadata": {
        "id": "AVZaamcR-V4D"
      },
      "source": [
        "***Final output after 100 Epochs***"
      ]
    },
    {
      "cell_type": "code",
      "metadata": {
        "colab": {
          "base_uri": "https://localhost:8080/"
        },
        "id": "OTy4Qg6h9bGA",
        "outputId": "7469feb7-45f7-4bc3-ac59-78f51e3047a2"
      },
      "source": [
        "print(\"Predicted Output: \" + str(NN.forward(X_norm)))  "
      ],
      "execution_count": 125,
      "outputs": [
        {
          "output_type": "stream",
          "name": "stdout",
          "text": [
            "Predicted Output: [[0.24764402 0.27254225 0.67185944 0.60813529 0.7857641  0.33017594]\n",
            " [0.27422536 0.46808382 0.68103812 0.63363362 0.59964949 0.30831165]\n",
            " [0.25025669 0.49572502 0.63226623 0.54773933 0.53794968 0.30758651]\n",
            " [0.22844792 0.27975998 0.65378893 0.55997632 0.77059257 0.30532454]\n",
            " [0.2655367  0.30353241 0.70930249 0.64510685 0.79111286 0.28725588]\n",
            " [0.26380823 0.3347606  0.66822892 0.6193361  0.72300067 0.33912666]]\n"
          ]
        }
      ]
    }
  ]
}